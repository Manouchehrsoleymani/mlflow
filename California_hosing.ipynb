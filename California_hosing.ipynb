{
 "cells": [
  {
   "cell_type": "markdown",
   "id": "0e30a299",
   "metadata": {},
   "source": [
    "## House Price Prediction With MLFLOW\n",
    "\n",
    "In this tutorials we will \n",
    "\n",
    "- Run a hyperparameter tuning while training a model\n",
    "- Log every Hyperparameter and metrics in the MLFLOW UI \n",
    "\n",
    "- Compare the results of the various runs in the MLflow UI\n",
    "\n",
    "- Choose the best run and register it as a model"
   ]
  },
  {
   "cell_type": "code",
   "execution_count": null,
   "id": "d21683d9",
   "metadata": {},
   "outputs": [],
   "source": [
    "import mlflow\n",
    "from mlflow.models import infer_signature\n",
    "import mlflow.sklearn\n",
    "import numpy as np\n",
    "import pandas as pd\n",
    "from sklearn.model_selection import train_test_split,GridSearchCV\n",
    "from sklearn.datasets import fetch_california_housing\n",
    "from sklearn.metrics import mean_squared_error\n",
    "from sklearn.ensemble import RandomForestRegressor\n",
    "from urllib.parse import urlparse"
   ]
  },
  {
   "cell_type": "code",
   "execution_count": null,
   "id": "6b9e0535",
   "metadata": {},
   "outputs": [],
   "source": [
    "housing = fetch_california_housing()\n",
    "## Prepraing the dataset\n",
    "data = pd.DataFrame(housing.data,columns=housing.feature_names)\n",
    "data['Price'] = housing.target\n",
    "data.head(10)\n"
   ]
  },
  {
   "cell_type": "markdown",
   "id": "8b80aa64",
   "metadata": {},
   "source": [
    "### Train test split, Model Hyperparameter Tuning,MLFLOW Experiments\n"
   ]
  },
  {
   "cell_type": "code",
   "execution_count": null,
   "id": "a6280147",
   "metadata": {},
   "outputs": [],
   "source": [
    "## Independent and Dependent features\n",
    "X = data.drop(columns=[\"Price\"])\n",
    "y = data[\"Price\"]\n"
   ]
  },
  {
   "cell_type": "code",
   "execution_count": null,
   "id": "d79efe22",
   "metadata": {},
   "outputs": [],
   "source": [
    "## Hyperparameter tuning using Grid Searchcv\n",
    "\n",
    "def hyperparameter_tuning(X_train,y_train,param_grid):\n",
    "    rf=RandomForestRegressor()\n",
    "    grid_search=GridSearchCV(estimator=rf,param_grid=param_grid,cv=3,n_jobs=-1,verbose=2,\n",
    "                             scoring=\"neg_mean_squared_error\")\n",
    "    grid_search.fit(X_train,y_train)\n",
    "    return grid_search"
   ]
  },
  {
   "cell_type": "code",
   "execution_count": null,
   "id": "0249ec75",
   "metadata": {},
   "outputs": [],
   "source": [
    "## Split data into training and test sets\n",
    "X_train,X_test,y_train,y_test=train_test_split(X,y,test_size=0.20)\n",
    "\n",
    "signature=infer_signature(X_train,y_train)\n",
    "\n",
    "## Define the hyperparameter grid\n",
    "param_grid = {\n",
    "    'n_estimators': [100, 200],\n",
    "    'max_depth': [5, 10, None],\n",
    "    'min_samples_split': [2, 5],\n",
    "    'min_samples_leaf': [1, 2]\n",
    "}\n",
    "\n",
    "## start the MLFLOW Experiments\n",
    "\n",
    "with mlflow.start_run():\n",
    "    ## Perform hyperparameter tuning\n",
    "    grid_search=hyperparameter_tuning(X_train,y_train,param_grid)\n",
    "\n",
    "    ## Get the best model\n",
    "    best_model=grid_search.best_estimator_\n",
    "\n",
    "    ## Evaluate the best model\n",
    "    y_pred=best_model.predict(X_test)\n",
    "    mse=mean_squared_error(y_test,y_pred)\n",
    "\n",
    "    ## Log best parameters and metrics\n",
    "    mlflow.log_param(\"best_n_estimators\",grid_search.best_params_['n_estimators'])\n",
    "    mlflow.log_param(\"best_max_depth\", grid_search.best_params_['max_depth'])\n",
    "    mlflow.log_param(\"best_min_samples_split\", grid_search.best_params_['min_samples_split'])\n",
    "    mlflow.log_param(\"best_min_samples_leaf\", grid_search.best_params_['min_samples_leaf'])\n",
    "    mlflow.log_metric(\"mse\",mse)\n",
    "\n",
    "    ## Tracking url\n",
    "\n",
    "    mlflow.set_tracking_uri(uri=\"http://127.0.0.1:5000\")\n",
    "    tracking_url_type_store=urlparse(mlflow.get_tracking_uri()).scheme\n",
    "\n",
    "    if tracking_url_type_store !='file':\n",
    "        mlflow.sklearn.log_model(best_model,\"model\",registered_model_name=\"Best Randomforest Model\")\n",
    "    else:\n",
    "        mlflow.sklearn.log_model(best_model,\"model\",signature=signature)\n",
    "\n",
    "    print(f\"Best Hyperparameters: {grid_search.best_params_}\")\n",
    "    print(f\"Mean Squared Error: {mse}\")"
   ]
  },
  {
   "cell_type": "code",
   "execution_count": null,
   "id": "4d1d61e7",
   "metadata": {},
   "outputs": [],
   "source": []
  }
 ],
 "metadata": {
  "kernelspec": {
   "display_name": ".venv",
   "language": "python",
   "name": "python3"
  },
  "language_info": {
   "codemirror_mode": {
    "name": "ipython",
    "version": 3
   },
   "file_extension": ".py",
   "mimetype": "text/x-python",
   "name": "python",
   "nbconvert_exporter": "python",
   "pygments_lexer": "ipython3",
   "version": "3.12.4"
  }
 },
 "nbformat": 4,
 "nbformat_minor": 5
}
