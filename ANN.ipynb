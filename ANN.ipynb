{
 "cells": [
  {
   "cell_type": "markdown",
   "id": "56964b9e",
   "metadata": {},
   "source": [
    "### Quickstart: Compare runs, choose a model, and deploy it to a REST API\n",
    "\n",
    "In this quickstart, you will:\n",
    "\n",
    "- Run a hyperparameter sweep on a training script\n",
    "\n",
    "- Compare the results of the runs in the MLflow UI\n",
    "\n",
    "- Choose the best run and register it as a model\n",
    "\n",
    "- Deploy the model to a REST API\n",
    "\n",
    "- Build a container image suitable for deployment to a cloud platform\n"
   ]
  },
  {
   "cell_type": "code",
   "execution_count": 2,
   "id": "e7786623",
   "metadata": {},
   "outputs": [],
   "source": [
    "import numpy as np\n",
    "import pandas as pd\n",
    "import mlflow\n",
    "import keras\n",
    "from hyperopt import STATUS_OK,Trials,fmin,hp,tpe\n",
    "from sklearn.metrics import mean_squared_error\n",
    "from mlflow.models import infer_signature\n",
    "import mlflow.tensorflow\n",
    "from sklearn.model_selection import train_test_split\n",
    "\n"
   ]
  },
  {
   "cell_type": "code",
   "execution_count": 3,
   "id": "8dc49913",
   "metadata": {},
   "outputs": [],
   "source": [
    "## Load the Datset\n",
    "data=pd.read_csv(\"https://raw.githubusercontent.com/stedy/Machine-Learning-with-R-datasets/refs/heads/master/winequality-white.csv\")\n",
    "\n",
    "# Splite data into train,validatio, test sets\n",
    "\n",
    "train,test=train_test_split(data,test_size=0.2,random_state=42)\n",
    "\n"
   ]
  },
  {
   "cell_type": "code",
   "execution_count": 4,
   "id": "692df371",
   "metadata": {},
   "outputs": [
    {
     "data": {
      "text/plain": [
       "array([6, 5, 6, ..., 6, 6, 8])"
      ]
     },
     "execution_count": 4,
     "metadata": {},
     "output_type": "execute_result"
    }
   ],
   "source": [
    "train[['quality']].values.ravel()"
   ]
  },
  {
   "cell_type": "code",
   "execution_count": 5,
   "id": "29829a18",
   "metadata": {},
   "outputs": [],
   "source": [
    "X_train = train.drop('quality',axis=1).values\n",
    "y_train=train[['quality']].values.ravel()\n",
    "X_train,X_valid,y_train,y_valid = train_test_split(X_train,y_train,test_size=0.2,random_state=42)\n",
    "\n",
    "#test Dataset\n",
    "X_test = test.drop('quality',axis=1).values\n",
    "y_test = test[['quality']].values.ravel()\n",
    "\n",
    "#mlflow Signature infer\n",
    "sign = infer_signature(X_train,y_train)"
   ]
  },
  {
   "cell_type": "code",
   "execution_count": 6,
   "id": "11143578",
   "metadata": {},
   "outputs": [],
   "source": [
    "def train_model(params,epochs,x_train,y_train,x_valid,y_valid,x_test,y_test):\n",
    "    #Get mean and varience for normalization\n",
    "    mean=np.mean(x_train,axis=0)\n",
    "    var=np.var(x_train,axis=0)\n",
    "\n",
    "    #Define Model Architecture\n",
    "    model= keras.Sequential([\n",
    "        keras.Input([x_train.shape[1]]),\n",
    "        keras.layers.Normalization(mean=mean,variance=var),\n",
    "        keras.layers.Dense(100,activation='relu'),\n",
    "        keras.layers.Dense(1),\n",
    "    ])\n",
    "    #Compile Model\n",
    "    model.compile(loss=\"mean_squared_error\",optimizer=keras.optimizers.SGD(learning_rate=params['lr'],momentum=params['momentum'])\n",
    "                  ,metrics=[keras.metrics.RootMeanSquaredError()])\n",
    "    #Train the ANN Model\n",
    "    with mlflow.start_run(nested=True):\n",
    "        model.fit(x_train,y_train,validation_data=(x_valid,y_valid),\n",
    "                  epochs=epochs,batch_size=64)\n",
    "        ## Evaluate the model\n",
    "        eval=model.evaluate(x_valid,y_valid,batch_size=64)\n",
    "        eval_rmse=eval[1]\n",
    "\n",
    "        ##Log the Params & results\n",
    "        mlflow.log_params(params)\n",
    "        mlflow.log_metric('eval_rmse',eval_rmse)\n",
    "        ## Log the model\n",
    "        mlflow.tensorflow.log_model(model,'model',signature=sign)\n",
    "        return {'loss':eval_rmse,'status':STATUS_OK,'model':model}"
   ]
  },
  {
   "cell_type": "code",
   "execution_count": 7,
   "id": "9e9d4bc0",
   "metadata": {},
   "outputs": [],
   "source": [
    "def objective(params):\n",
    "    #Mlflow will track the parameters and results for each run\n",
    "    result=train_model(params,\n",
    "                       epochs=3,\n",
    "                       x_train=X_train,\n",
    "                       y_train=y_train,\n",
    "                       x_valid=X_valid,\n",
    "                       y_valid=y_valid,\n",
    "                       x_test=X_test,\n",
    "                       y_test=y_test)\n",
    "    return result\n"
   ]
  },
  {
   "cell_type": "code",
   "execution_count": 14,
   "id": "c86dceaf",
   "metadata": {},
   "outputs": [],
   "source": [
    "space = {\n",
    "    'lr':hp.loguniform('lr',np.log(1e-5),np.log(1e-1)),\n",
    "    'momentum':hp.uniform('momentum',0.0,1.0)\n",
    "    \n",
    "}"
   ]
  },
  {
   "cell_type": "code",
   "execution_count": null,
   "id": "a2e9dd6e",
   "metadata": {},
   "outputs": [
    {
     "name": "stdout",
     "output_type": "stream",
     "text": [
      "  0%|          | 0/4 [00:00<?, ?trial/s, best loss=?]"
     ]
    },
    {
     "name": "stderr",
     "output_type": "stream",
     "text": [
      "2025-05-31 01:07:43.332080: E external/local_xla/xla/stream_executor/cuda/cuda_platform.cc:51] failed call to cuInit: INTERNAL: CUDA error: Failed call to cuInit: UNKNOWN ERROR (303)\n"
     ]
    },
    {
     "name": "stdout",
     "output_type": "stream",
     "text": [
      "Epoch 1/3                                            \n",
      "\n",
      "\u001b[1m 1/49\u001b[0m \u001b[37m━━━━━━━━━━━━━━━━━━━━\u001b[0m \u001b[1m1:02\u001b[0m 1s/step - loss: 33.8609 - root_mean_squared_error: 5.8190\n",
      "\u001b[1m11/49\u001b[0m \u001b[32m━━━━\u001b[0m\u001b[37m━━━━━━━━━━━━━━━━\u001b[0m \u001b[1m0s\u001b[0m 5ms/step - loss: 33.4827 - root_mean_squared_error: 5.7861 \n",
      "\u001b[1m22/49\u001b[0m \u001b[32m━━━━━━━━\u001b[0m\u001b[37m━━━━━━━━━━━━\u001b[0m \u001b[1m0s\u001b[0m 5ms/step - loss: 32.0021 - root_mean_squared_error: 5.6551\n",
      "\u001b[1m30/49\u001b[0m \u001b[32m━━━━━━━━━━━━\u001b[0m\u001b[37m━━━━━━━━\u001b[0m \u001b[1m0s\u001b[0m 5ms/step - loss: 30.9029 - root_mean_squared_error: 5.5550\n",
      "\u001b[1m37/49\u001b[0m \u001b[32m━━━━━━━━━━━━━━━\u001b[0m\u001b[37m━━━━━\u001b[0m \u001b[1m0s\u001b[0m 6ms/step - loss: 29.9636 - root_mean_squared_error: 5.4675\n",
      "\u001b[1m47/49\u001b[0m \u001b[32m━━━━━━━━━━━━━━━━━━━\u001b[0m\u001b[37m━\u001b[0m \u001b[1m0s\u001b[0m 6ms/step - loss: 28.6765 - root_mean_squared_error: 5.3446\n",
      "\u001b[1m49/49\u001b[0m \u001b[32m━━━━━━━━━━━━━━━━━━━━\u001b[0m\u001b[37m\u001b[0m \u001b[1m2s\u001b[0m 18ms/step - loss: 28.3113 - root_mean_squared_error: 5.3091 - val_loss: 12.2222 - val_root_mean_squared_error: 3.4960\n",
      "\n",
      "Epoch 2/3                                            \n",
      "\n",
      "\u001b[1m 1/49\u001b[0m \u001b[37m━━━━━━━━━━━━━━━━━━━━\u001b[0m \u001b[1m2s\u001b[0m 62ms/step - loss: 10.8313 - root_mean_squared_error: 3.2911\n",
      "\u001b[1m11/49\u001b[0m \u001b[32m━━━━\u001b[0m\u001b[37m━━━━━━━━━━━━━━━━\u001b[0m \u001b[1m0s\u001b[0m 5ms/step - loss: 10.8589 - root_mean_squared_error: 3.2951 \n",
      "\u001b[1m23/49\u001b[0m \u001b[32m━━━━━━━━━\u001b[0m\u001b[37m━━━━━━━━━━━\u001b[0m \u001b[1m0s\u001b[0m 5ms/step - loss: 10.2699 - root_mean_squared_error: 3.2030\n",
      "\u001b[1m34/49\u001b[0m \u001b[32m━━━━━━━━━━━━━\u001b[0m\u001b[37m━━━━━━━\u001b[0m \u001b[1m0s\u001b[0m 5ms/step - loss: 9.7453 - root_mean_squared_error: 3.1181 \n",
      "\u001b[1m47/49\u001b[0m \u001b[32m━━━━━━━━━━━━━━━━━━━\u001b[0m\u001b[37m━\u001b[0m \u001b[1m0s\u001b[0m 4ms/step - loss: 9.1931 - root_mean_squared_error: 3.0255\n",
      "\u001b[1m49/49\u001b[0m \u001b[32m━━━━━━━━━━━━━━━━━━━━\u001b[0m\u001b[37m\u001b[0m \u001b[1m0s\u001b[0m 9ms/step - loss: 9.0772 - root_mean_squared_error: 3.0056 - val_loss: 4.4884 - val_root_mean_squared_error: 2.1186\n",
      "\n",
      "Epoch 3/3                                            \n",
      "\n",
      "\u001b[1m 1/49\u001b[0m \u001b[37m━━━━━━━━━━━━━━━━━━━━\u001b[0m \u001b[1m4s\u001b[0m 84ms/step - loss: 4.2117 - root_mean_squared_error: 2.0522\n",
      "\u001b[1m 6/49\u001b[0m \u001b[32m━━\u001b[0m\u001b[37m━━━━━━━━━━━━━━━━━━\u001b[0m \u001b[1m0s\u001b[0m 11ms/step - loss: 4.1862 - root_mean_squared_error: 2.0459\n",
      "\u001b[1m18/49\u001b[0m \u001b[32m━━━━━━━\u001b[0m\u001b[37m━━━━━━━━━━━━━\u001b[0m \u001b[1m0s\u001b[0m 6ms/step - loss: 3.9167 - root_mean_squared_error: 1.9783 \n",
      "\u001b[1m26/49\u001b[0m \u001b[32m━━━━━━━━━━\u001b[0m\u001b[37m━━━━━━━━━━\u001b[0m \u001b[1m0s\u001b[0m 6ms/step - loss: 3.8085 - root_mean_squared_error: 1.9506\n",
      "\u001b[1m35/49\u001b[0m \u001b[32m━━━━━━━━━━━━━━\u001b[0m\u001b[37m━━━━━━\u001b[0m \u001b[1m0s\u001b[0m 6ms/step - loss: 3.7164 - root_mean_squared_error: 1.9266\n",
      "\u001b[1m47/49\u001b[0m \u001b[32m━━━━━━━━━━━━━━━━━━━\u001b[0m\u001b[37m━\u001b[0m \u001b[1m0s\u001b[0m 6ms/step - loss: 3.5896 - root_mean_squared_error: 1.8928\n",
      "\u001b[1m49/49\u001b[0m \u001b[32m━━━━━━━━━━━━━━━━━━━━\u001b[0m\u001b[37m\u001b[0m \u001b[1m1s\u001b[0m 11ms/step - loss: 3.5610 - root_mean_squared_error: 1.8851 - val_loss: 2.8469 - val_root_mean_squared_error: 1.6873\n",
      "\n",
      "\u001b[1m 1/13\u001b[0m \u001b[32m━\u001b[0m\u001b[37m━━━━━━━━━━━━━━━━━━━\u001b[0m \u001b[1m0s\u001b[0m 77ms/step - loss: 3.1386 - root_mean_squared_error: 1.7716\n",
      "\u001b[1m13/13\u001b[0m \u001b[32m━━━━━━━━━━━━━━━━━━━━\u001b[0m\u001b[37m\u001b[0m \u001b[1m0s\u001b[0m 8ms/step - loss: 2.9265 - root_mean_squared_error: 1.7104 \n",
      "\n",
      "🏃 View run bustling-whale-124 at: http://127.0.0.1:5000/#/experiments/790105216573593755/runs/3fffea736c86482fb5fe11950c457a01\n",
      "\n",
      "🧪 View experiment at: http://127.0.0.1:5000/#/experiments/790105216573593755\n",
      "\n",
      "Epoch 1/3                                                                     \n",
      "\n",
      "\u001b[1m 1/49\u001b[0m \u001b[37m━━━━━━━━━━━━━━━━━━━━\u001b[0m \u001b[1m54s\u001b[0m 1s/step - loss: 35.8375 - root_mean_squared_error: 5.9864\n",
      "\u001b[1m10/49\u001b[0m \u001b[32m━━━━\u001b[0m\u001b[37m━━━━━━━━━━━━━━━━\u001b[0m \u001b[1m0s\u001b[0m 6ms/step - loss: 31.0611 - root_mean_squared_error: 5.5686\n",
      "\u001b[1m18/49\u001b[0m \u001b[32m━━━━━━━\u001b[0m\u001b[37m━━━━━━━━━━━━━\u001b[0m \u001b[1m0s\u001b[0m 6ms/step - loss: 28.1325 - root_mean_squared_error: 5.2913\n",
      "\u001b[1m27/49\u001b[0m \u001b[32m━━━━━━━━━━━\u001b[0m\u001b[37m━━━━━━━━━\u001b[0m \u001b[1m0s\u001b[0m 6ms/step - loss: 25.4396 - root_mean_squared_error: 5.0196\n",
      "\u001b[1m36/49\u001b[0m \u001b[32m━━━━━━━━━━━━━━\u001b[0m\u001b[37m━━━━━━\u001b[0m \u001b[1m0s\u001b[0m 6ms/step - loss: 23.2052 - root_mean_squared_error: 4.7799\n",
      "\u001b[1m47/49\u001b[0m \u001b[32m━━━━━━━━━━━━━━━━━━━\u001b[0m\u001b[37m━\u001b[0m \u001b[1m0s\u001b[0m 6ms/step - loss: 20.9697 - root_mean_squared_error: 4.5257\n",
      "\u001b[1m49/49\u001b[0m \u001b[32m━━━━━━━━━━━━━━━━━━━━\u001b[0m\u001b[37m\u001b[0m \u001b[1m2s\u001b[0m 18ms/step - loss: 20.4427 - root_mean_squared_error: 4.4636 - val_loss: 3.1684 - val_root_mean_squared_error: 1.7800\n",
      "\n",
      "Epoch 2/3                                                                     \n",
      "\n",
      "\u001b[1m 1/49\u001b[0m \u001b[37m━━━━━━━━━━━━━━━━━━━━\u001b[0m \u001b[1m3s\u001b[0m 69ms/step - loss: 3.2738 - root_mean_squared_error: 1.8094\n",
      "\u001b[1m10/49\u001b[0m \u001b[32m━━━━\u001b[0m\u001b[37m━━━━━━━━━━━━━━━━\u001b[0m \u001b[1m0s\u001b[0m 6ms/step - loss: 2.7253 - root_mean_squared_error: 1.6493 \n",
      "\u001b[1m22/49\u001b[0m \u001b[32m━━━━━━━━\u001b[0m\u001b[37m━━━━━━━━━━━━\u001b[0m \u001b[1m0s\u001b[0m 5ms/step - loss: 2.5728 - root_mean_squared_error: 1.6026\n",
      "\u001b[1m31/49\u001b[0m \u001b[32m━━━━━━━━━━━━\u001b[0m\u001b[37m━━━━━━━━\u001b[0m \u001b[1m0s\u001b[0m 5ms/step - loss: 2.4860 - root_mean_squared_error: 1.5751\n",
      "\u001b[1m40/49\u001b[0m \u001b[32m━━━━━━━━━━━━━━━━\u001b[0m\u001b[37m━━━━\u001b[0m \u001b[1m0s\u001b[0m 5ms/step - loss: 2.4120 - root_mean_squared_error: 1.5512\n",
      "\u001b[1m49/49\u001b[0m \u001b[32m━━━━━━━━━━━━━━━━━━━━\u001b[0m\u001b[37m\u001b[0m \u001b[1m1s\u001b[0m 10ms/step - loss: 2.3547 - root_mean_squared_error: 1.5325 - val_loss: 2.1708 - val_root_mean_squared_error: 1.4734\n",
      "\n",
      "Epoch 3/3                                                                     \n",
      "\n",
      "\u001b[1m 1/49\u001b[0m \u001b[37m━━━━━━━━━━━━━━━━━━━━\u001b[0m \u001b[1m2s\u001b[0m 57ms/step - loss: 2.4427 - root_mean_squared_error: 1.5629\n",
      "\u001b[1m11/49\u001b[0m \u001b[32m━━━━\u001b[0m\u001b[37m━━━━━━━━━━━━━━━━\u001b[0m \u001b[1m0s\u001b[0m 5ms/step - loss: 1.8487 - root_mean_squared_error: 1.3580 \n",
      "\u001b[1m20/49\u001b[0m \u001b[32m━━━━━━━━\u001b[0m\u001b[37m━━━━━━━━━━━━\u001b[0m \u001b[1m0s\u001b[0m 5ms/step - loss: 1.7839 - root_mean_squared_error: 1.3344\n",
      "\u001b[1m32/49\u001b[0m \u001b[32m━━━━━━━━━━━━━\u001b[0m\u001b[37m━━━━━━━\u001b[0m \u001b[1m0s\u001b[0m 5ms/step - loss: 1.7597 - root_mean_squared_error: 1.3257\n",
      "\u001b[1m44/49\u001b[0m \u001b[32m━━━━━━━━━━━━━━━━━\u001b[0m\u001b[37m━━━\u001b[0m \u001b[1m0s\u001b[0m 5ms/step - loss: 1.7501 - root_mean_squared_error: 1.3223\n",
      "\u001b[1m49/49\u001b[0m \u001b[32m━━━━━━━━━━━━━━━━━━━━\u001b[0m\u001b[37m\u001b[0m \u001b[1m0s\u001b[0m 9ms/step - loss: 1.7434 - root_mean_squared_error: 1.3198 - val_loss: 1.8617 - val_root_mean_squared_error: 1.3644\n",
      "\n",
      "\u001b[1m 1/13\u001b[0m \u001b[32m━\u001b[0m\u001b[37m━━━━━━━━━━━━━━━━━━━\u001b[0m \u001b[1m0s\u001b[0m 54ms/step - loss: 1.9588 - root_mean_squared_error: 1.3996\n",
      "\u001b[1m11/13\u001b[0m \u001b[32m━━━━━━━━━━━━━━━━\u001b[0m\u001b[37m━━━━\u001b[0m \u001b[1m0s\u001b[0m 5ms/step - loss: 1.8565 - root_mean_squared_error: 1.3622 \n",
      "\u001b[1m13/13\u001b[0m \u001b[32m━━━━━━━━━━━━━━━━━━━━\u001b[0m\u001b[37m\u001b[0m \u001b[1m0s\u001b[0m 9ms/step - loss: 1.8574 - root_mean_squared_error: 1.3626\n",
      "\n",
      "🏃 View run adaptable-tern-396 at: http://127.0.0.1:5000/#/experiments/790105216573593755/runs/6e77d4b2158b406986b60f74adc55e92\n",
      "\n",
      "🧪 View experiment at: http://127.0.0.1:5000/#/experiments/790105216573593755 \n",
      "\n",
      "Epoch 1/3                                                                      \n",
      "\n",
      "\u001b[1m 1/49\u001b[0m \u001b[37m━━━━━━━━━━━━━━━━━━━━\u001b[0m \u001b[1m47s\u001b[0m 994ms/step - loss: 38.4650 - root_mean_squared_error: 6.2020\n",
      "\u001b[1m10/49\u001b[0m \u001b[32m━━━━\u001b[0m\u001b[37m━━━━━━━━━━━━━━━━\u001b[0m \u001b[1m0s\u001b[0m 6ms/step - loss: 23.4060 - root_mean_squared_error: 4.7826   \n",
      "\u001b[1m20/49\u001b[0m \u001b[32m━━━━━━━━\u001b[0m\u001b[37m━━━━━━━━━━━━\u001b[0m \u001b[1m0s\u001b[0m 5ms/step - loss: 17.8892 - root_mean_squared_error: 4.1468\n",
      "\u001b[1m27/49\u001b[0m \u001b[32m━━━━━━━━━━━\u001b[0m\u001b[37m━━━━━━━━━\u001b[0m \u001b[1m0s\u001b[0m 6ms/step - loss: 15.6091 - root_mean_squared_error: 3.8532\n",
      "\u001b[1m36/49\u001b[0m \u001b[32m━━━━━━━━━━━━━━\u001b[0m\u001b[37m━━━━━━\u001b[0m \u001b[1m0s\u001b[0m 6ms/step - loss: 13.5729 - root_mean_squared_error: 3.5727\n",
      "\u001b[1m42/49\u001b[0m \u001b[32m━━━━━━━━━━━━━━━━━\u001b[0m\u001b[37m━━━\u001b[0m \u001b[1m0s\u001b[0m 6ms/step - loss: 12.5945 - root_mean_squared_error: 3.4327\n",
      "\u001b[1m49/49\u001b[0m \u001b[32m━━━━━━━━━━━━━━━━━━━━\u001b[0m\u001b[37m\u001b[0m \u001b[1m2s\u001b[0m 20ms/step - loss: 11.5658 - root_mean_squared_error: 3.2808 - val_loss: 3.8023 - val_root_mean_squared_error: 1.9499\n",
      "\n",
      "Epoch 2/3                                                                      \n",
      "\n",
      "\u001b[1m 1/49\u001b[0m \u001b[37m━━━━━━━━━━━━━━━━━━━━\u001b[0m \u001b[1m3s\u001b[0m 75ms/step - loss: 3.2185 - root_mean_squared_error: 1.7940\n",
      "\u001b[1m11/49\u001b[0m \u001b[32m━━━━\u001b[0m\u001b[37m━━━━━━━━━━━━━━━━\u001b[0m \u001b[1m0s\u001b[0m 5ms/step - loss: 3.1601 - root_mean_squared_error: 1.7761 \n",
      "\u001b[1m21/49\u001b[0m \u001b[32m━━━━━━━━\u001b[0m\u001b[37m━━━━━━━━━━━━\u001b[0m \u001b[1m0s\u001b[0m 5ms/step - loss: 3.7123 - root_mean_squared_error: 1.9196\n",
      "\u001b[1m32/49\u001b[0m \u001b[32m━━━━━━━━━━━━━\u001b[0m\u001b[37m━━━━━━━\u001b[0m \u001b[1m0s\u001b[0m 5ms/step - loss: 4.2973 - root_mean_squared_error: 2.0557\n",
      "\u001b[1m44/49\u001b[0m \u001b[32m━━━━━━━━━━━━━━━━━\u001b[0m\u001b[37m━━━\u001b[0m \u001b[1m0s\u001b[0m 5ms/step - loss: 5.3432 - root_mean_squared_error: 2.2727\n",
      "\u001b[1m49/49\u001b[0m \u001b[32m━━━━━━━━━━━━━━━━━━━━\u001b[0m\u001b[37m\u001b[0m \u001b[1m1s\u001b[0m 9ms/step - loss: 5.6674 - root_mean_squared_error: 2.3403 - val_loss: 5.6210 - val_root_mean_squared_error: 2.3709\n",
      "\n",
      "Epoch 3/3                                                                      \n",
      "\n",
      "\u001b[1m 1/49\u001b[0m \u001b[37m━━━━━━━━━━━━━━━━━━━━\u001b[0m \u001b[1m3s\u001b[0m 81ms/step - loss: 7.2661 - root_mean_squared_error: 2.6956\n",
      "\u001b[1m11/49\u001b[0m \u001b[32m━━━━\u001b[0m\u001b[37m━━━━━━━━━━━━━━━━\u001b[0m \u001b[1m0s\u001b[0m 5ms/step - loss: 5.2719 - root_mean_squared_error: 2.2882 \n",
      "\u001b[1m22/49\u001b[0m \u001b[32m━━━━━━━━\u001b[0m\u001b[37m━━━━━━━━━━━━\u001b[0m \u001b[1m0s\u001b[0m 5ms/step - loss: 5.2176 - root_mean_squared_error: 2.2801\n",
      "\u001b[1m30/49\u001b[0m \u001b[32m━━━━━━━━━━━━\u001b[0m\u001b[37m━━━━━━━━\u001b[0m \u001b[1m0s\u001b[0m 6ms/step - loss: 5.0670 - root_mean_squared_error: 2.2472\n",
      "\u001b[1m40/49\u001b[0m \u001b[32m━━━━━━━━━━━━━━━━\u001b[0m\u001b[37m━━━━\u001b[0m \u001b[1m0s\u001b[0m 5ms/step - loss: 4.8344 - root_mean_squared_error: 2.1937\n",
      "\u001b[1m49/49\u001b[0m \u001b[32m━━━━━━━━━━━━━━━━━━━━\u001b[0m\u001b[37m\u001b[0m \u001b[1m1s\u001b[0m 10ms/step - loss: 4.5739 - root_mean_squared_error: 2.1308 - val_loss: 1.2807 - val_root_mean_squared_error: 1.1317\n",
      "\n",
      "\u001b[1m 1/13\u001b[0m \u001b[32m━\u001b[0m\u001b[37m━━━━━━━━━━━━━━━━━━━\u001b[0m \u001b[1m0s\u001b[0m 52ms/step - loss: 1.3535 - root_mean_squared_error: 1.1634\n",
      "\u001b[1m13/13\u001b[0m \u001b[32m━━━━━━━━━━━━━━━━━━━━\u001b[0m\u001b[37m\u001b[0m \u001b[1m0s\u001b[0m 7ms/step - loss: 1.2612 - root_mean_squared_error: 1.1226 \n",
      "\n",
      " 50%|█████     | 2/4 [00:42<00:38, 19.41s/trial, best loss: 1.3644334077835083]"
     ]
    }
   ],
   "source": [
    "mlflow.set_tracking_uri(\"http://127.0.0.1:5000\")\n",
    "mlflow.set_experiment(\"wine-quality\")\n",
    "\n",
    "with mlflow.start_run():\n",
    "    #condact the hyperparameter search using hyperopt\n",
    "    #trials is a DB to store the each parameter value and the result \n",
    "    trials=Trials()\n",
    "    best=fmin(\n",
    "        fn=objective,\n",
    "        space=space,\n",
    "        algo=tpe.suggest,\n",
    "        max_evals=4,\n",
    "        trials=trials\n",
    "    )\n",
    "     # Fetch the details of the best run\n",
    "    best_run = sorted(trials.results, key=lambda x: x[\"loss\"])[0]\n",
    "\n",
    "    # Log the best parameters, loss, and model\n",
    "    mlflow.log_params(best)\n",
    "    mlflow.log_metric(\"eval_rmse\", best_run[\"loss\"])\n",
    "    mlflow.tensorflow.log_model(best_run[\"model\"], \"model\", signature=sign)\n",
    "\n",
    "    # Print out the best parameters and corresponding loss\n",
    "    print(f\"Best parameters: {best}\")\n",
    "    print(f\"Best eval rmse: {best_run['loss']}\")"
   ]
  },
  {
   "cell_type": "code",
   "execution_count": null,
   "id": "c1822428",
   "metadata": {},
   "outputs": [],
   "source": []
  }
 ],
 "metadata": {
  "kernelspec": {
   "display_name": ".venv",
   "language": "python",
   "name": "python3"
  },
  "language_info": {
   "codemirror_mode": {
    "name": "ipython",
    "version": 3
   },
   "file_extension": ".py",
   "mimetype": "text/x-python",
   "name": "python",
   "nbconvert_exporter": "python",
   "pygments_lexer": "ipython3",
   "version": "3.12.4"
  }
 },
 "nbformat": 4,
 "nbformat_minor": 5
}
